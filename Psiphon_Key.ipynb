{
  "nbformat": 4,
  "nbformat_minor": 0,
  "metadata": {
    "colab": {
      "provenance": [],
      "collapsed_sections": [
        "CjNp7gn1AIh-",
        "8V-d8r96924h",
        "05a_QZMZ9_7O",
        "OmAnMz38Eyfp",
        "QmTfFUX-9zoB"
      ],
      "authorship_tag": "ABX9TyPh6d+kp3D+j3tGActhxopA",
      "include_colab_link": true
    },
    "kernelspec": {
      "name": "python3",
      "display_name": "Python 3"
    },
    "language_info": {
      "name": "python"
    }
  },
  "cells": [
    {
      "cell_type": "markdown",
      "metadata": {
        "id": "view-in-github",
        "colab_type": "text"
      },
      "source": [
        "<a href=\"https://colab.research.google.com/github/iam-muni-baa/Psiphon_key_check_bot/blob/main/Psiphon_Key.ipynb\" target=\"_parent\"><img src=\"https://colab.research.google.com/assets/colab-badge.svg\" alt=\"Open In Colab\"/></a>"
      ]
    },
    {
      "cell_type": "markdown",
      "source": [
        "#Import Required Modules\n",
        "required modules are imported here"
      ],
      "metadata": {
        "id": "IX19st3ZEjd6"
      }
    },
    {
      "cell_type": "code",
      "source": [
        "import requests\n",
        "import json"
      ],
      "metadata": {
        "id": "pn9PQz1ZUZym"
      },
      "execution_count": 58,
      "outputs": []
    },
    {
      "cell_type": "markdown",
      "source": [
        "#Hidden keys \n",
        "API KEy must be in private"
      ],
      "metadata": {
        "id": "630cW1fHF5IX"
      }
    },
    {
      "cell_type": "code",
      "source": [
        "base_url = \"https://api.telegram.org/bot\"\n",
        "api_key=\"5623719005:AAESRiSLODCok6uPgxqTRCPETTChRsxNh8c\""
      ],
      "metadata": {
        "id": "9X2oBJCDF4lK"
      },
      "execution_count": 59,
      "outputs": []
    },
    {
      "cell_type": "markdown",
      "source": [
        "#Send Photo in Group"
      ],
      "metadata": {
        "id": "CjNp7gn1AIh-"
      }
    },
    {
      "cell_type": "code",
      "source": [
        "base_url = \"https://api.telegram.org/bot5623719005:AAESRiSLODCok6uPgxqTRCPETTChRsxNh8c/sendPhoto\"\n",
        "parameters = {\n",
        "    \"chat_id\":\"-625948640\",\n",
        "    \"photo\":\"https://unsplash.com/photos/96aFhdONVHw/download?ixid=MnwxMjA3fDB8MXxhbGx8M3x8fHx8fDJ8fDE2NjYzNDQ2NDE&force=true&w=1920\",\n",
        "    \"caption\":\"hello welcome\"\n",
        "}\n",
        "res = requests.get(base_url,data = parameters)\n",
        "res.text"
      ],
      "metadata": {
        "id": "zKR4cHbxAIFv"
      },
      "execution_count": null,
      "outputs": []
    },
    {
      "cell_type": "markdown",
      "source": [
        "#Reading Data from group"
      ],
      "metadata": {
        "id": "8V-d8r96924h"
      }
    },
    {
      "cell_type": "code",
      "execution_count": null,
      "metadata": {
        "id": "bHAxR79V7DLZ",
        "colab": {
          "base_uri": "https://localhost:8080/",
          "height": 70
        },
        "outputId": "4649d8f4-d87e-465d-eb58-ea4e16206fd3"
      },
      "outputs": [
        {
          "output_type": "execute_result",
          "data": {
            "text/plain": [
              "'{\"ok\":true,\"result\":[{\"update_id\":908412977,\\n\"message\":{\"message_id\":5,\"from\":{\"id\":606260608,\"is_bot\":false,\"first_name\":\"Muni \\\\u91d1\",\"last_name\":\"royal \\\\u745e\",\"username\":\"muniroyal1\",\"language_code\":\"en\"},\"chat\":{\"id\":-625948640,\"title\":\"Psiphon Testing\",\"type\":\"group\",\"all_members_are_administrators\":true},\"date\":1666336235,\"text\":\"hii handsome bro\"}}]}'"
            ],
            "application/vnd.google.colaboratory.intrinsic+json": {
              "type": "string"
            }
          },
          "metadata": {},
          "execution_count": 18
        }
      ],
      "source": [
        "base_url = \"https://api.telegram.org/bot5623719005:AAESRiSLODCok6uPgxqTRCPETTChRsxNh8c/getUpdates\"\n",
        "parameters = {\n",
        "    \"offset\":\"908412977\",\n",
        "    \"limit\":\"1\"\n",
        "}\n",
        "res = requests.get(base_url,data = parameters)\n",
        "res.text"
      ]
    },
    {
      "cell_type": "markdown",
      "source": [
        "#Send Message\n"
      ],
      "metadata": {
        "id": "05a_QZMZ9_7O"
      }
    },
    {
      "cell_type": "code",
      "source": [
        "base_url = \"https://api.telegram.org/bot5623719005:AAESRiSLODCok6uPgxqTRCPETTChRsxNh8c/sendMessage\"\n",
        "parameters = {\n",
        "    \"chat_id\":\"-625948640\",\n",
        "    \"text\":\"Hi From Bot\"\n",
        "}\n",
        "res = requests.get(base_url,data = parameters)\n",
        "res.text"
      ],
      "metadata": {
        "id": "mvtFT3amVEwl",
        "colab": {
          "base_uri": "https://localhost:8080/",
          "height": 52
        },
        "outputId": "0a3d8d4e-6a06-467d-ba7a-635fd31f96ef"
      },
      "execution_count": null,
      "outputs": [
        {
          "output_type": "execute_result",
          "data": {
            "text/plain": [
              "'{\"ok\":true,\"result\":{\"message_id\":6,\"from\":{\"id\":5623719005,\"is_bot\":true,\"first_name\":\"psiphon keys\",\"username\":\"psiphon_key_bot\"},\"chat\":{\"id\":-625948640,\"title\":\"Psiphon Testing\",\"type\":\"group\",\"all_members_are_administrators\":true},\"date\":1666346553,\"text\":\"Hi From Bot\"}}'"
            ],
            "application/vnd.google.colaboratory.intrinsic+json": {
              "type": "string"
            }
          },
          "metadata": {},
          "execution_count": 14
        }
      ]
    },
    {
      "cell_type": "markdown",
      "source": [
        "#Replaying Message to User\n",
        "Here by understanding the user message anfd replay."
      ],
      "metadata": {
        "id": "OmAnMz38Eyfp"
      }
    },
    {
      "cell_type": "code",
      "source": [
        "# Static variables\n",
        "base_url_api_key = base_url+api_key\n",
        "# Dynamic variables \n",
        "match_var = \"check\"\n",
        "replaying_text = \"i got it sorry\"\n",
        "\n",
        "#Reciving messages or reading data\n",
        "def read_message(offset):\n",
        "  base_url=base_url_api_key+\"/getUpdates\"\n",
        "  parameters = {\n",
        "      \"offset\":offset,\n",
        "  }\n",
        "  res = requests.get(base_url,data = parameters)\n",
        "\n",
        "  data = res.json() # REsponse data converted into json data\n",
        "  if data[\"result\"]:\n",
        "    chat_id = data[\"result\"][-1][\"message\"][\"chat\"][\"id\"] # Getting the chat_id from the read dat or recived message\n",
        "    replay_message_id = data[\"result\"][-1][\"message\"][\"message_id\"] # GEtting replay data\n",
        "\n",
        "    # # Debugging prints\n",
        "    # print(chat_id,  replay_message_id  )\n",
        "\n",
        "  for result in data[\"result\"]:\n",
        "    if match_var in (result[\"message\"][\"text\"]): # Checking the recived messages matches with ours or not\n",
        "\n",
        "      send_message(chat_id,replay_message_id) # Calling Send Function\n",
        "\n",
        "  if data[\"result\"]:\n",
        "\n",
        "    return data[\"result\"][-1][\"update_id\"] + 1\n",
        "  \n",
        "#sending Message code\n",
        "def send_message(chat_id,replay_message_id):\n",
        "  base_url=base_url_api_key+\"/sendMessage\"\n",
        "  # Parameters that we are used for \n",
        "  parameters = {\n",
        "      \"chat_id\":chat_id, # For message we need to replay\n",
        "      \"text\":replaying_text, #Text Message replaying here\n",
        "      \"reply_to_message_id\": replay_message_id\n",
        "  }\n",
        "  res = requests.get(base_url,data = parameters)\n",
        "\n",
        "offset = 0\n",
        "while True: # Its looking for messages always\n",
        "  offset = read_message(offset)\n",
        "  # print(offset)"
      ],
      "metadata": {
        "id": "H250fq5aCX0d"
      },
      "execution_count": null,
      "outputs": []
    },
    {
      "cell_type": "markdown",
      "source": [
        "#Psiphone key decode"
      ],
      "metadata": {
        "id": "kTB2lRb6yeAJ"
      }
    },
    {
      "cell_type": "code",
      "source": [
        "pkey = \"eyJBdXRob3JpemF0aW9uIjp7IklEIjoiU3N5Y1dBbG5va243UFRLWkJML0RmUmhqK1laV0E0QW0vVDRvUEJmZWtuYz0iLCJBY2Nlc3NUeXBlIjoic3BlZWQtYm9vc3QiLCJFeHBpcmVzIjoiMjAyMi0xMC0yMVQxNzo0MDo0MS4wMzM3OTQ3MTFaIn0sIlNpZ25pbmdLZXlJRCI6IjlTN1ozWUpNZzNjVTk3MFRYVFh3czlMTEVIQzRLdUVtdkE3QW5qSTF3REE9IiwiU2lnbmF0dXJlIjoiN3VNTUkvRkp5ZkFQUDZwNVhLRzNWSHkybVdmdDgwNjhPVUtQU3VEbmlJNVFsNkxYSzJnSjVJWXRCdmo3aUNRWStaUUY2Z011V253TmZNeHpwd3dEQXc9PSJ9\""
      ],
      "metadata": {
        "id": "_J6ryXHEFZ0E"
      },
      "execution_count": 132,
      "outputs": []
    },
    {
      "cell_type": "code",
      "source": [
        "import base64\n",
        "import json\n",
        "from datetime import datetime"
      ],
      "metadata": {
        "id": "p-hG9xFgyy1S"
      },
      "execution_count": 111,
      "outputs": []
    },
    {
      "cell_type": "code",
      "source": [
        "def key_check(pkey):\n",
        "  key_dt = json.loads(base64.b64decode(pkey))\n",
        "  ExpirationDate = datetime.strptime(key_dt[\"Authorization\"][\"Expires\"][0:19],\"%Y-%m-%dT%H:%M:%S\")\n",
        "  now = datetime.now()\n",
        "  if ExpirationDate <= now:\n",
        "    return \"Expired\"\n",
        "  elif ExpirationDate > now : \n",
        "    return (f\"{ExpirationDate - now} iam\")\n",
        "print(key_check(pkey))"
      ],
      "metadata": {
        "colab": {
          "base_uri": "https://localhost:8080/"
        },
        "id": "0D6CXOa9y4oe",
        "outputId": "d9a4805e-e67a-4d67-d5dc-2a428271c036"
      },
      "execution_count": 133,
      "outputs": [
        {
          "output_type": "stream",
          "name": "stdout",
          "text": [
            "1:48:52.352364 iam\n"
          ]
        }
      ]
    },
    {
      "cell_type": "markdown",
      "source": [
        "#Seperate text from users data"
      ],
      "metadata": {
        "id": "QmTfFUX-9zoB"
      }
    },
    {
      "cell_type": "code",
      "source": [
        "base_url = \"https://api.telegram.org/bot5623719005:AAESRiSLODCok6uPgxqTRCPETTChRsxNh8c/getUpdates\"\n",
        "parameters = {\n",
        "    \"offset\":\"908413040\",\n",
        "}\n",
        "res = requests.get(base_url,data = parameters)\n",
        "data = res.json()\n",
        "if \"reply_to_message\" in res.text :\n",
        "  key_in_chat=data[\"result\"][-1][\"message\"][\"reply_to_message\"][\"text\"]\n",
        "  print(key_check(key_in_chat[2:-2]))\n",
        "print(data)"
      ],
      "metadata": {
        "colab": {
          "base_uri": "https://localhost:8080/"
        },
        "id": "wv5PHo6L9qss",
        "outputId": "7a1d84b3-76f5-42fe-e3a8-7e75fa56feaf"
      },
      "execution_count": 108,
      "outputs": [
        {
          "output_type": "stream",
          "name": "stdout",
          "text": [
            "2:11:59.048528\n",
            "{'ok': True, 'result': [{'update_id': 908413040, 'message': {'message_id': 101, 'from': {'id': 606260608, 'is_bot': False, 'first_name': 'Muni 金', 'last_name': 'royal 瑞', 'username': 'iam_muni_baa', 'language_code': 'en'}, 'chat': {'id': -625948640, 'title': 'Psiphon Testing', 'type': 'group', 'all_members_are_administrators': True}, 'date': 1666366228, 'text': 'check'}}, {'update_id': 908413041, 'message': {'message_id': 102, 'from': {'id': 606260608, 'is_bot': False, 'first_name': 'Muni 金', 'last_name': 'royal 瑞', 'username': 'iam_muni_baa', 'language_code': 'en'}, 'chat': {'id': -625948640, 'title': 'Psiphon Testing', 'type': 'group', 'all_members_are_administrators': True}, 'date': 1666366279, 'text': '[\"eyJBdXRob3JpemF0aW9uIjp7IklEIjoicFNqT09Xc24zY3dTYTlFUWpNb1BoUXo5N0JxclZ3UnhFWG1jRUpra0QzMD0iLCJBY2Nlc3NUeXBlIjoic3BlZWQtYm9vc3QiLCJFeHBpcmVzIjoiMjAyMi0xMC0yMVQxMzoxOTo1OC44NjAyMTgxODZaIn0sIlNpZ25pbmdLZXlJRCI6IjlTN1ozWUpNZzNjVTk3MFRYVFh3czlMTEVIQzRLdUVtdkE3QW5qSTF3REE9IiwiU2lnbmF0dXJlIjoiMkpKbStwMmJOUXIrZDdpRlIzazEvOGwwbEhULytvS1FhbjlQSXQweXBOdmRndi9OM2NaR2JBNEVJWWRJNGVXNTU1Q3Z6VG5NNkRvR2lvZVJEZFR0Q1E9PSJ9\"]'}}, {'update_id': 908413042, 'message': {'message_id': 103, 'from': {'id': 606260608, 'is_bot': False, 'first_name': 'Muni 金', 'last_name': 'royal 瑞', 'username': 'iam_muni_baa', 'language_code': 'en'}, 'chat': {'id': -625948640, 'title': 'Psiphon Testing', 'type': 'group', 'all_members_are_administrators': True}, 'date': 1666366289, 'reply_to_message': {'message_id': 102, 'from': {'id': 606260608, 'is_bot': False, 'first_name': 'Muni 金', 'last_name': 'royal 瑞', 'username': 'iam_muni_baa', 'language_code': 'en'}, 'chat': {'id': -625948640, 'title': 'Psiphon Testing', 'type': 'group', 'all_members_are_administrators': True}, 'date': 1666366279, 'text': '[\"eyJBdXRob3JpemF0aW9uIjp7IklEIjoicFNqT09Xc24zY3dTYTlFUWpNb1BoUXo5N0JxclZ3UnhFWG1jRUpra0QzMD0iLCJBY2Nlc3NUeXBlIjoic3BlZWQtYm9vc3QiLCJFeHBpcmVzIjoiMjAyMi0xMC0yMVQxMzoxOTo1OC44NjAyMTgxODZaIn0sIlNpZ25pbmdLZXlJRCI6IjlTN1ozWUpNZzNjVTk3MFRYVFh3czlMTEVIQzRLdUVtdkE3QW5qSTF3REE9IiwiU2lnbmF0dXJlIjoiMkpKbStwMmJOUXIrZDdpRlIzazEvOGwwbEhULytvS1FhbjlQSXQweXBOdmRndi9OM2NaR2JBNEVJWWRJNGVXNTU1Q3Z6VG5NNkRvR2lvZVJEZFR0Q1E9PSJ9\"]'}, 'text': 'check'}}]}\n"
          ]
        }
      ]
    },
    {
      "cell_type": "markdown",
      "source": [
        "# Finall result"
      ],
      "metadata": {
        "id": "9pys8_fxDV6_"
      }
    },
    {
      "cell_type": "code",
      "source": [
        "import requests\n",
        "import json\n",
        "import base64\n",
        "from datetime import datetime\n",
        "\n",
        "base_url = \"https://api.telegram.org/bot\"\n",
        "api_key=\"5623719005:AAESRiSLODCok6uPgxqTRCPETTChRsxNh8c\"\n",
        "\n",
        "# Static variables\n",
        "base_url_api_key = base_url+api_key\n",
        "# Dynamic variables \n",
        "match_var = \"check\"\n",
        "\n",
        "#Reciving messages or reading data\n",
        "def read_message(offset):\n",
        "  base_url=base_url_api_key+\"/getUpdates\"\n",
        "  parameters = {\n",
        "      \"offset\":offset,\n",
        "  }\n",
        "  res = requests.get(base_url,data = parameters)\n",
        "\n",
        "  data = res.json() # REsponse data converted into json data\n",
        "  if data[\"result\"]:\n",
        "    chat_id = data[\"result\"][-1][\"message\"][\"chat\"][\"id\"] # Getting the chat_id from the read dat or recived message\n",
        "    if \"reply_to_message\" in res.text :\n",
        "      key_in_chat=data[\"result\"][-1][\"message\"][\"reply_to_message\"][\"text\"]\n",
        "      replay_message_id = data[\"result\"][-1][\"message\"][\"reply_to_message\"][\"message_id\"] # GEtting replay data\n",
        "      replaying_text = key_check(key_in_chat[2:-2])\n",
        "      for result in data[\"result\"]:\n",
        "        if match_var in (result[\"message\"][\"text\"]): # Checking the recived messages matches with ours or not\n",
        "          send_message(chat_id,replay_message_id,replaying_text) # Calling Send Function\n",
        "\n",
        "    # # Debugging prints\n",
        "    # print(chat_id,  replay_message_id  )\n",
        "\n",
        "  if data[\"result\"]:\n",
        "\n",
        "    return data[\"result\"][-1][\"update_id\"] + 1\n",
        "  \n",
        "#sending Message code\n",
        "def send_message(chat_id,replay_message_id,replaying_text):\n",
        "  base_url=base_url_api_key+\"/sendMessage\"\n",
        "  # Parameters that we are used for \n",
        "  parameters = {\n",
        "      \"chat_id\":chat_id, # For message we need to replay\n",
        "      \"text\":replaying_text, #Text Message replaying here\n",
        "      \"reply_to_message_id\": replay_message_id\n",
        "  }\n",
        "  res = requests.get(base_url,data = parameters)\n",
        "\n",
        "# Checks the validity\n",
        "def key_check(pkey):\n",
        "  try:\n",
        "    key_dt = json.loads(base64.b64decode(pkey))\n",
        "    ExpirationDate = datetime.strptime(key_dt[\"Authorization\"][\"Expires\"][0:19],\"%Y-%m-%dT%H:%M:%S\")\n",
        "    now = datetime.now()\n",
        "    if ExpirationDate <= now:\n",
        "      return \"Expired\"\n",
        "    elif ExpirationDate > now:\n",
        "      return (f\"{ExpirationDate - now} Credits @iam_muni_baa\")\n",
        "  except :\n",
        "     return \"Not a valid data\"\n",
        "offset = 0\n",
        "while True: # Its looking for messages always\n",
        "  offset = read_message(offset)\n",
        "  # print(offset)\n"
      ],
      "metadata": {
        "id": "FpLF8VBxGjV-"
      },
      "execution_count": null,
      "outputs": []
    }
  ]
}